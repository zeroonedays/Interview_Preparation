{
 "cells": [
  {
   "cell_type": "markdown",
   "metadata": {},
   "source": [
    "# Question\n",
    "\n",
    "Alexa is a mathematics teacher, she likes to ask puzzle/math problems to all the students of a class. \n",
    "\n",
    "This time she has given a math problem with below conditions:\n",
    "\n",
    "1.) A number should be a natural number\n",
    "\n",
    "2.) A number should be Armstrong number.\n",
    "\n",
    "3.) It is given between interval N1 & N2.\n",
    "\n",
    "Write a code to find out a number/numbers that satisfy above conditions."
   ]
  },
  {
   "cell_type": "markdown",
   "metadata": {},
   "source": [
    "## Input\n",
    "1.) Lower bound\n",
    "\n",
    "2.) Upper bound\n",
    "\n",
    "\n",
    "## Output\n",
    "Number/numbers satisfying the above conditions\n",
    "\n",
    "\n",
    "## Example\n",
    "\n",
    "### Input:\n",
    "### 100\n",
    "### 200\n",
    "\n",
    "### Output:\n",
    "### 153\n",
    "\n",
    "\n",
    "### Input:\n",
    "### -1\n",
    "### 100\n",
    "\n",
    "### Output:\n",
    "### Wrong Input"
   ]
  },
  {
   "cell_type": "code",
   "execution_count": 16,
   "metadata": {},
   "outputs": [
    {
     "name": "stdout",
     "output_type": "stream",
     "text": [
      "100\n",
      "200\n",
      "153\n"
     ]
    }
   ],
   "source": [
    "N1 = int(input())\n",
    "N2 = int(input())\n",
    "\n",
    "if N1 < 1 or N2 < 1:\n",
    "    print(\"Wrong Input\")\n",
    "else:\n",
    "    for i in range(N1, N2):\n",
    "        sums = 0\n",
    "        dgt = len(str(N1))\n",
    "        org_val = i\n",
    "        while(i>0):\n",
    "            rem = i % 10\n",
    "            sums = sums + pow(rem, dgt)\n",
    "            i = i//10\n",
    "        if sums == org_val:\n",
    "            print(org_val)"
   ]
  },
  {
   "cell_type": "code",
   "execution_count": 15,
   "metadata": {},
   "outputs": [
    {
     "name": "stdout",
     "output_type": "stream",
     "text": [
      "100\n",
      "99999\n",
      "153\n",
      "370\n",
      "371\n",
      "407\n",
      "1634\n",
      "8208\n",
      "9474\n",
      "54748\n",
      "92727\n",
      "93084\n"
     ]
    }
   ],
   "source": [
    "def checkArmstrong(num):\n",
    "    sums = 0\n",
    "    dgt = len(str(num))\n",
    "    org_val = num\n",
    "    while(num>0):\n",
    "        rem = num % 10\n",
    "        sums = sums + pow(rem, dgt)\n",
    "        num = num//10\n",
    "    if sums == org_val:\n",
    "        return True\n",
    "    \n",
    "N1 = int(input())\n",
    "N2 = int(input())\n",
    "\n",
    "if N1 < 1 or N2 < 1:\n",
    "    print(\"Wrong Input\")\n",
    "else:\n",
    "    for i in range(N1, N2):\n",
    "        if checkArmstrong(i):\n",
    "            print(i)"
   ]
  },
  {
   "cell_type": "code",
   "execution_count": null,
   "metadata": {},
   "outputs": [],
   "source": []
  }
 ],
 "metadata": {
  "kernelspec": {
   "display_name": "Python 3",
   "language": "python",
   "name": "python3"
  },
  "language_info": {
   "codemirror_mode": {
    "name": "ipython",
    "version": 3
   },
   "file_extension": ".py",
   "mimetype": "text/x-python",
   "name": "python",
   "nbconvert_exporter": "python",
   "pygments_lexer": "ipython3",
   "version": "3.6.11"
  }
 },
 "nbformat": 4,
 "nbformat_minor": 4
}
