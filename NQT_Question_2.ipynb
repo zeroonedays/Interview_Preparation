{
 "cells": [
  {
   "cell_type": "markdown",
   "metadata": {},
   "source": [
    "# Question 1 - Sweet Seventeen\n",
    "\n",
    "Given a maximum of four digit to the base 17 (10->A, 11->B, 12->C, 16->G) as input, \n",
    "\n",
    "output its decimal value."
   ]
  },
  {
   "cell_type": "markdown",
   "metadata": {},
   "source": [
    "### Input\n",
    "#### 23GF\n",
    "### Output\n",
    "#### 10980"
   ]
  },
  {
   "cell_type": "code",
   "execution_count": 1,
   "metadata": {},
   "outputs": [
    {
     "name": "stdout",
     "output_type": "stream",
     "text": [
      "23GF\n",
      "10980\n"
     ]
    }
   ],
   "source": [
    "val = input()\n",
    "print(int(val, 17))"
   ]
  },
  {
   "cell_type": "code",
   "execution_count": 3,
   "metadata": {},
   "outputs": [
    {
     "name": "stdout",
     "output_type": "stream",
     "text": [
      "A1\n",
      "171\n"
     ]
    }
   ],
   "source": [
    "val = input()\n",
    "print(int(val, 17))"
   ]
  },
  {
   "cell_type": "code",
   "execution_count": 1,
   "metadata": {},
   "outputs": [
    {
     "name": "stdout",
     "output_type": "stream",
     "text": [
      "23GF\n",
      "10980\n"
     ]
    }
   ],
   "source": [
    "dict_17 = {\n",
    "    \"1\":1,\n",
    "    \"2\":2,\n",
    "    \"3\":3,\n",
    "    \"4\":4,\n",
    "    \"5\":5,\n",
    "    \"6\":6,\n",
    "    \"7\":7,\n",
    "    \"8\":8,\n",
    "    \"9\":9,\n",
    "    \"A\":10,\n",
    "    \"B\":11,\n",
    "    \"C\":12,\n",
    "    \"D\":13,\n",
    "    \"E\":14,\n",
    "    \"F\":15,\n",
    "    \"G\":16\n",
    "}\n",
    "val2 = input()\n",
    "count = 0\n",
    "Sum = 0\n",
    "for item in reversed(val2):\n",
    "    Sum = Sum + dict_17[item]*pow(17,count)\n",
    "    count += 1\n",
    "print(Sum)"
   ]
  },
  {
   "cell_type": "code",
   "execution_count": 2,
   "metadata": {},
   "outputs": [
    {
     "name": "stdout",
     "output_type": "stream",
     "text": [
      "A1\n",
      "171\n"
     ]
    }
   ],
   "source": [
    "dict_17 = {\n",
    "    \"1\":1,\n",
    "    \"2\":2,\n",
    "    \"3\":3,\n",
    "    \"4\":4,\n",
    "    \"5\":5,\n",
    "    \"6\":6,\n",
    "    \"7\":7,\n",
    "    \"8\":8,\n",
    "    \"9\":9,\n",
    "    \"A\":10,\n",
    "    \"B\":11,\n",
    "    \"C\":12,\n",
    "    \"D\":13,\n",
    "    \"E\":14,\n",
    "    \"F\":15,\n",
    "    \"G\":16\n",
    "}\n",
    "val2 = input()\n",
    "count = 0\n",
    "Sum = 0\n",
    "for item in reversed(val2):\n",
    "    Sum = Sum + dict_17[item]*pow(17,count)\n",
    "    count += 1\n",
    "print(Sum)"
   ]
  },
  {
   "cell_type": "code",
   "execution_count": 3,
   "metadata": {},
   "outputs": [],
   "source": [
    "def cnvtToDec(str1):\n",
    "    dict_17 = {\n",
    "        \"1\":1,\n",
    "        \"2\":2,\n",
    "        \"3\":3,\n",
    "        \"4\":4,\n",
    "        \"5\":5,\n",
    "        \"6\":6,\n",
    "        \"7\":7,\n",
    "        \"8\":8,\n",
    "        \"9\":9,\n",
    "        \"A\":10,\n",
    "        \"B\":11,\n",
    "        \"C\":12,\n",
    "        \"D\":13,\n",
    "        \"E\":14,\n",
    "        \"F\":15,\n",
    "        \"G\":16\n",
    "    }\n",
    "    count = 0\n",
    "    Sum = 0\n",
    "    for item in reversed(str1):\n",
    "        Sum = Sum + dict_17[item]*pow(17,count)\n",
    "        count += 1\n",
    "    return Sum"
   ]
  },
  {
   "cell_type": "code",
   "execution_count": 4,
   "metadata": {},
   "outputs": [
    {
     "name": "stdout",
     "output_type": "stream",
     "text": [
      "23A\n"
     ]
    },
    {
     "data": {
      "text/plain": [
       "639"
      ]
     },
     "execution_count": 4,
     "metadata": {},
     "output_type": "execute_result"
    }
   ],
   "source": [
    "val3 = input()\n",
    "cnvtToDec(val3)"
   ]
  },
  {
   "cell_type": "code",
   "execution_count": 5,
   "metadata": {},
   "outputs": [
    {
     "name": "stdout",
     "output_type": "stream",
     "text": [
      "23A\n",
      "639\n"
     ]
    }
   ],
   "source": [
    "val3 = input()\n",
    "print(cnvtToDec(val3))"
   ]
  },
  {
   "cell_type": "code",
   "execution_count": 6,
   "metadata": {},
   "outputs": [
    {
     "name": "stdout",
     "output_type": "stream",
     "text": [
      "18851\n"
     ]
    }
   ],
   "source": [
    "print(cnvtToDec('3E3F'))"
   ]
  },
  {
   "cell_type": "code",
   "execution_count": 7,
   "metadata": {},
   "outputs": [
    {
     "name": "stdout",
     "output_type": "stream",
     "text": [
      "100\n"
     ]
    }
   ],
   "source": [
    "print(cnvtToDec('5F'))"
   ]
  },
  {
   "cell_type": "markdown",
   "metadata": {},
   "source": [
    "## Happy Coding\n",
    "# A R"
   ]
  }
 ],
 "metadata": {
  "kernelspec": {
   "display_name": "Python 3",
   "language": "python",
   "name": "python3"
  },
  "language_info": {
   "codemirror_mode": {
    "name": "ipython",
    "version": 3
   },
   "file_extension": ".py",
   "mimetype": "text/x-python",
   "name": "python",
   "nbconvert_exporter": "python",
   "pygments_lexer": "ipython3",
   "version": "3.6.11"
  }
 },
 "nbformat": 4,
 "nbformat_minor": 4
}
