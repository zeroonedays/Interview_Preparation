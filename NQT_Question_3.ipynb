{
 "cells": [
  {
   "cell_type": "markdown",
   "metadata": {},
   "source": [
    "# Problem\n",
    "\n",
    "One programming language has the following  keywords that cannot be used as identifiers:\n",
    "\n",
    "\n",
    "\n",
    "\n",
    "break, case, continue, default, defer, else, for, func, goto,\n",
    "\n",
    "if, map, range, return, struct, type, var\n",
    "\n",
    "\n",
    "\n",
    "\n",
    "\n",
    "\n",
    "Write a program to find if the given word is a keyword or not"
   ]
  },
  {
   "cell_type": "markdown",
   "metadata": {},
   "source": [
    "## Input #1\n",
    "### defer\n",
    "## Output:\n",
    "### defer is a keyword\n",
    "## Input #2\n",
    "### while\n",
    "## Output:\n",
    "### while is not a keyword\n"
   ]
  },
  {
   "cell_type": "code",
   "execution_count": 3,
   "metadata": {},
   "outputs": [
    {
     "name": "stdout",
     "output_type": "stream",
     "text": [
      "defer\n",
      "defer is a keyword\n"
     ]
    }
   ],
   "source": [
    "keyword = (\"break\", \"case\", \"continue\", \"default\", \"defer\", \"else\", \"for\", \"func\", \"goto\",\n",
    "           \"if\", \"map\", \"range\", \"return\", \"struct\", \"type\", \"var\")\n",
    "var = input()\n",
    "if var in keyword:\n",
    "    print(var+\" is a keyword\")\n",
    "else:\n",
    "    print(var+\" is not a keyword\")"
   ]
  },
  {
   "cell_type": "code",
   "execution_count": 4,
   "metadata": {},
   "outputs": [
    {
     "name": "stdout",
     "output_type": "stream",
     "text": [
      "while\n",
      "while is not a keyword\n"
     ]
    }
   ],
   "source": [
    "keyword = (\"break\", \"case\", \"continue\", \"default\", \"defer\", \"else\", \"for\", \"func\", \"goto\",\n",
    "           \"if\", \"map\", \"range\", \"return\", \"struct\", \"type\", \"var\")\n",
    "var = input()\n",
    "if var in keyword:\n",
    "    print(var+\" is a keyword\")\n",
    "else:\n",
    "    print(var+\" is not a keyword\")"
   ]
  },
  {
   "cell_type": "code",
   "execution_count": 5,
   "metadata": {},
   "outputs": [
    {
     "name": "stdout",
     "output_type": "stream",
     "text": [
      "defer\n",
      "defer is a keyword\n"
     ]
    }
   ],
   "source": [
    "keyword = [\"break\", \"case\", \"continue\", \"default\", \"defer\", \"else\", \"for\", \"func\", \"goto\",\n",
    "           \"if\", \"map\", \"range\", \"return\", \"struct\", \"type\", \"var\"]\n",
    "var = input()\n",
    "if var in keyword:\n",
    "    print(var+\" is a keyword\")\n",
    "else:\n",
    "    print(var+\" is not a keyword\")"
   ]
  },
  {
   "cell_type": "code",
   "execution_count": 6,
   "metadata": {},
   "outputs": [
    {
     "name": "stdout",
     "output_type": "stream",
     "text": [
      "while\n",
      "while is not a keyword\n"
     ]
    }
   ],
   "source": [
    "keyword = {\"break\", \"case\", \"continue\", \"default\", \"defer\", \"else\", \"for\", \"func\", \"goto\",\n",
    "           \"if\", \"map\", \"range\", \"return\", \"struct\", \"type\", \"var\"}\n",
    "var = input()\n",
    "if var in keyword:\n",
    "    print(var+\" is a keyword\")\n",
    "else:\n",
    "    print(var+\" is not a keyword\")"
   ]
  },
  {
   "cell_type": "code",
   "execution_count": 7,
   "metadata": {},
   "outputs": [
    {
     "name": "stdout",
     "output_type": "stream",
     "text": [
      "defer\n",
      "defer is a keyword\n"
     ]
    }
   ],
   "source": [
    "key_array = [\"break\", \"case\", \"continue\", \"default\", \"defer\", \"else\", \"for\", \"func\", \"goto\",\n",
    "           \"if\", \"map\", \"range\", \"return\", \"struct\", \"type\", \"var\"]\n",
    "var2 = input()\n",
    "found = False\n",
    "for item in key_array:\n",
    "    if var2 == item:\n",
    "        found = True\n",
    "        break\n",
    "if found:\n",
    "    print(var2+\" is a keyword\")\n",
    "else:\n",
    "    print(var2+\" is not a keyword\")"
   ]
  },
  {
   "cell_type": "code",
   "execution_count": 8,
   "metadata": {},
   "outputs": [
    {
     "name": "stdout",
     "output_type": "stream",
     "text": [
      "while\n",
      "while is not a keyword\n"
     ]
    }
   ],
   "source": [
    "key_array = [\"break\", \"case\", \"continue\", \"default\", \"defer\", \"else\", \"for\", \"func\", \"goto\",\n",
    "           \"if\", \"map\", \"range\", \"return\", \"struct\", \"type\", \"var\"]\n",
    "var2 = input()\n",
    "found = False\n",
    "for item in key_array:\n",
    "    if var2 == item:\n",
    "        found = True\n",
    "        break\n",
    "if found:\n",
    "    print(var2+\" is a keyword\")\n",
    "else:\n",
    "    print(var2+\" is not a keyword\")"
   ]
  },
  {
   "cell_type": "code",
   "execution_count": 9,
   "metadata": {},
   "outputs": [
    {
     "name": "stdout",
     "output_type": "stream",
     "text": [
      "defer\n",
      "defer is a keyword\n"
     ]
    }
   ],
   "source": [
    "key_array = [\"break\", \"case\", \"continue\", \"default\", \"defer\", \"else\", \"for\", \"func\", \"goto\",\n",
    "           \"if\", \"map\", \"range\", \"return\", \"struct\", \"type\", \"var\"]\n",
    "var3 = input()\n",
    "endlst = len(key_array)\n",
    "found = False\n",
    "for i in range(endlst):\n",
    "    if var3 == key_array[i]:\n",
    "        found = True\n",
    "        break\n",
    "if found:\n",
    "    print(var3+\" is a keyword\")\n",
    "else:\n",
    "    print(var3+\" is not a keyword\")"
   ]
  },
  {
   "cell_type": "code",
   "execution_count": 10,
   "metadata": {},
   "outputs": [
    {
     "name": "stdout",
     "output_type": "stream",
     "text": [
      "while\n",
      "while is not a keyword\n"
     ]
    }
   ],
   "source": [
    "key_array = [\"break\", \"case\", \"continue\", \"default\", \"defer\", \"else\", \"for\", \"func\", \"goto\",\n",
    "           \"if\", \"map\", \"range\", \"return\", \"struct\", \"type\", \"var\"]\n",
    "var3 = input()\n",
    "endlst = len(key_array)\n",
    "found = False\n",
    "for i in range(endlst):\n",
    "    if var3 == key_array[i]:\n",
    "        found = True\n",
    "        break\n",
    "if found:\n",
    "    print(var3+\" is a keyword\")\n",
    "else:\n",
    "    print(var3+\" is not a keyword\")"
   ]
  },
  {
   "cell_type": "code",
   "execution_count": 11,
   "metadata": {},
   "outputs": [],
   "source": [
    "def checkIfKeyword(str1):\n",
    "    key_array = [\"break\", \"case\", \"continue\", \"default\", \"defer\", \"else\", \"for\", \"func\", \"goto\",\n",
    "                 \"if\", \"map\", \"range\", \"return\", \"struct\", \"type\", \"var\"]\n",
    "    found = False\n",
    "    for item in key_array:\n",
    "        if str1 == item:\n",
    "            found = True\n",
    "            break\n",
    "    if found:\n",
    "        print(str1+\" is a keyword\")\n",
    "    else:\n",
    "        print(str1+\" is not a keyword\")"
   ]
  },
  {
   "cell_type": "code",
   "execution_count": 12,
   "metadata": {
    "scrolled": true
   },
   "outputs": [
    {
     "name": "stdout",
     "output_type": "stream",
     "text": [
      "else\n",
      "else is a keyword\n"
     ]
    }
   ],
   "source": [
    "var4 = input()\n",
    "checkIfKeyword(var4)"
   ]
  },
  {
   "cell_type": "code",
   "execution_count": 13,
   "metadata": {},
   "outputs": [
    {
     "name": "stdout",
     "output_type": "stream",
     "text": [
      "goto\n",
      "goto is a keyword\n"
     ]
    }
   ],
   "source": [
    "var4 = input()\n",
    "checkIfKeyword(var4)"
   ]
  },
  {
   "cell_type": "code",
   "execution_count": 14,
   "metadata": {},
   "outputs": [
    {
     "name": "stdout",
     "output_type": "stream",
     "text": [
      "gohime\n",
      "gohime is not a keyword\n"
     ]
    }
   ],
   "source": [
    "var4 = input()\n",
    "checkIfKeyword(var4)"
   ]
  },
  {
   "cell_type": "markdown",
   "metadata": {},
   "source": [
    "## Happy Coding\n",
    "# A R"
   ]
  }
 ],
 "metadata": {
  "kernelspec": {
   "display_name": "Python 3",
   "language": "python",
   "name": "python3"
  },
  "language_info": {
   "codemirror_mode": {
    "name": "ipython",
    "version": 3
   },
   "file_extension": ".py",
   "mimetype": "text/x-python",
   "name": "python",
   "nbconvert_exporter": "python",
   "pygments_lexer": "ipython3",
   "version": "3.6.11"
  }
 },
 "nbformat": 4,
 "nbformat_minor": 4
}
