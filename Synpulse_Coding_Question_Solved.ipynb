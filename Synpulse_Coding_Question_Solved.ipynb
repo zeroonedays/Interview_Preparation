{
 "cells": [
  {
   "cell_type": "markdown",
   "metadata": {},
   "source": [
    "# Synpulse Code-a-Thon Coding"
   ]
  },
  {
   "cell_type": "markdown",
   "metadata": {},
   "source": [
    "## Problem 1 Reverse\n",
    "Given a string S, print the words of the string in the reverse order.\n",
    "\n",
    "### Input Format\n",
    "The only line of input cosists of a string, S\n",
    "### Constraints\n",
    "1 <= |S| <= 100\n",
    "### Output Format\n",
    "Print the words of the string in reverse manner.\n",
    "### Sample TestCase 1\n",
    "#### Input\n",
    "##### Synpulse Management Consulting\n",
    "#### Output\n",
    "##### Consulting Management Synpulse"
   ]
  },
  {
   "cell_type": "code",
   "execution_count": 1,
   "metadata": {},
   "outputs": [
    {
     "name": "stdout",
     "output_type": "stream",
     "text": [
      "Synpulse Management Consulting\n",
      "Consulting Management Synpulse "
     ]
    }
   ],
   "source": [
    "S = list(map(str, input().split()))\n",
    "for item in reversed(S):\n",
    "    print(item, end=\" \")"
   ]
  },
  {
   "cell_type": "code",
   "execution_count": 2,
   "metadata": {},
   "outputs": [
    {
     "name": "stdout",
     "output_type": "stream",
     "text": [
      "Synpulse Management Consulting\n",
      "Consulting Management Synpulse "
     ]
    }
   ],
   "source": [
    "S = list(map(str, input().split()))\n",
    "S = S[::-1]\n",
    "for item in S:\n",
    "    print(item, end=\" \")"
   ]
  },
  {
   "cell_type": "code",
   "execution_count": 3,
   "metadata": {},
   "outputs": [
    {
     "name": "stdout",
     "output_type": "stream",
     "text": [
      "Synpulse Management Consulting\n",
      "Consulting Management Synpulse\n"
     ]
    }
   ],
   "source": [
    "S = list(map(str, input().split()))\n",
    "S = S[::-1]\n",
    "\n",
    "for item in S:\n",
    "    if item == S[-1]:\n",
    "        print(item)\n",
    "    else:\n",
    "        print(item, end=\" \")"
   ]
  },
  {
   "cell_type": "code",
   "execution_count": 5,
   "metadata": {},
   "outputs": [
    {
     "name": "stdout",
     "output_type": "stream",
     "text": [
      "Synpulse Management Consulting\n",
      "Consulting Management Synpulse\n"
     ]
    }
   ],
   "source": [
    "S = list(map(str, input().split()))\n",
    "S = S[::-1]\n",
    "for item in S:\n",
    "    if item == S[len(S)-1]:\n",
    "        print(item)\n",
    "    else:\n",
    "        print(item, end=\" \")"
   ]
  },
  {
   "cell_type": "code",
   "execution_count": 6,
   "metadata": {},
   "outputs": [
    {
     "name": "stdout",
     "output_type": "stream",
     "text": [
      "What is it\n",
      "it is What\n"
     ]
    }
   ],
   "source": [
    "S = list(map(str, input().split()))\n",
    "S = S[::-1]\n",
    "for item in S:\n",
    "    if item == S[len(S)-1]:\n",
    "        print(item)\n",
    "    else:\n",
    "        print(item, end=\" \")"
   ]
  },
  {
   "cell_type": "code",
   "execution_count": 7,
   "metadata": {},
   "outputs": [
    {
     "name": "stdout",
     "output_type": "stream",
     "text": [
      "Like and subscribe\n",
      "subscribe and Like\n"
     ]
    }
   ],
   "source": [
    "S = list(map(str, input().split()))\n",
    "S = S[::-1]\n",
    "for item in S:\n",
    "    if item == S[len(S)-1]:\n",
    "        print(item)\n",
    "    else:\n",
    "        print(item, end=\" \")"
   ]
  },
  {
   "cell_type": "code",
   "execution_count": 8,
   "metadata": {},
   "outputs": [
    {
     "name": "stdout",
     "output_type": "stream",
     "text": [
      "like comment share and subscribe\n",
      "subscribe and share comment like\n"
     ]
    }
   ],
   "source": [
    "S = list(map(str, input().split()))\n",
    "S = S[::-1]\n",
    "for item in S:\n",
    "    if item == S[len(S)-1]:\n",
    "        print(item)\n",
    "    else:\n",
    "        print(item, end=\" \")"
   ]
  },
  {
   "cell_type": "markdown",
   "metadata": {},
   "source": [
    "## Problem 2 First Day\n",
    "It is Rajeev's first day at synpulse and he has been given a scenario to code. The scenario\n",
    "\n",
    "is as follows:\n",
    "\n",
    "Given an integer array, find the output array such that the elements at each index of the output \n",
    "\n",
    "array are the product of all the numbers in the input array except itself\n",
    "\n",
    "### Input Format\n",
    "The first line of input consists of number of elements in the array, N\n",
    "\n",
    "The second line of input consists of the N space-separated integers Ai.\n",
    "### Constraints\n",
    "1 <= N <= 50\n",
    "\n",
    "-100 <= Ai <= 100\n",
    "### Output Format\n",
    "Print the output array space-separately.\n",
    "#### Sample TestCase 1\n",
    "#### Input\n",
    "##### 5\n",
    "##### 3 6 8 4 7\n",
    "#### Output\n",
    "##### 1344 672 504 1008 576\n",
    "#### Explanation\n",
    "#### 6 * 8 * 4 * 7 = 1344\n",
    "#### 3 * 8 * 4 * 7 = 672\n",
    "#### 3 * 6 * 4 * 7 = 504\n",
    "#### 3 * 6 * 8 * 7 = 1008\n",
    "#### 3 * 6 * 8 * 4 = 576"
   ]
  },
  {
   "cell_type": "code",
   "execution_count": 1,
   "metadata": {},
   "outputs": [
    {
     "name": "stdout",
     "output_type": "stream",
     "text": [
      "5\n",
      "3 6 8 4 7\n",
      "1344 672 504 1008 576 "
     ]
    }
   ],
   "source": [
    "N = int(input())\n",
    "Arr = list(map(int, input().split()))\n",
    "for i in range(len(Arr)):\n",
    "    prod = 1\n",
    "    for j in range(len(Arr)):\n",
    "        if i==j:\n",
    "            continue\n",
    "        prod = prod * Arr[j]\n",
    "    print(prod, end=\" \")"
   ]
  },
  {
   "cell_type": "code",
   "execution_count": 6,
   "metadata": {},
   "outputs": [
    {
     "name": "stdout",
     "output_type": "stream",
     "text": [
      "5\n",
      "3 6 8 4 7\n",
      "1344 672 504 1008 576 "
     ]
    }
   ],
   "source": [
    "N = int(input())\n",
    "Arr = list(map(int, input().split()))\n",
    "total_prod = 1\n",
    "for item in Arr:\n",
    "    total_prod = total_prod*item\n",
    "for item in Arr:\n",
    "    print(total_prod//item, end=\" \")"
   ]
  },
  {
   "cell_type": "code",
   "execution_count": 7,
   "metadata": {},
   "outputs": [
    {
     "name": "stdout",
     "output_type": "stream",
     "text": [
      "5\n",
      "3 6 8 4 7\n",
      "1344 672 504 1008 576\n"
     ]
    }
   ],
   "source": [
    "N = int(input())\n",
    "Arr = list(map(int, input().split()))\n",
    "total_prod = 1\n",
    "for item in Arr:\n",
    "    total_prod = total_prod*item\n",
    "for item in Arr:\n",
    "    val = total_prod//item\n",
    "    if item == Arr[-1]:\n",
    "        print(val)\n",
    "    else:\n",
    "        print(val, end=\" \")"
   ]
  },
  {
   "cell_type": "code",
   "execution_count": 8,
   "metadata": {},
   "outputs": [
    {
     "name": "stdout",
     "output_type": "stream",
     "text": [
      "5\n",
      "1 2 3 4 5\n",
      "120 60 40 30 24\n"
     ]
    }
   ],
   "source": [
    "N = int(input())\n",
    "Arr = list(map(int, input().split()))\n",
    "total_prod = 1\n",
    "for item in Arr:\n",
    "    total_prod = total_prod*item\n",
    "for item in Arr:\n",
    "    val = total_prod//item\n",
    "    if item == Arr[-1]:\n",
    "        print(val)\n",
    "    else:\n",
    "        print(val, end=\" \")"
   ]
  },
  {
   "cell_type": "code",
   "execution_count": 13,
   "metadata": {},
   "outputs": [
    {
     "name": "stdout",
     "output_type": "stream",
     "text": [
      "8\n",
      "4 7 6 9 11 18 5 14\n",
      "5239080 2993760 3492720 2328480 1905120 1164240 4191264 1496880\n"
     ]
    }
   ],
   "source": [
    "N = int(input())\n",
    "Arr = list(map(int, input().split()))\n",
    "total_prod = 1\n",
    "for item in Arr:\n",
    "    total_prod = total_prod*item\n",
    "for item in Arr:\n",
    "    val = total_prod//item\n",
    "    if item == Arr[-1]:\n",
    "        print(val)\n",
    "    else:\n",
    "        print(val, end=\" \")"
   ]
  },
  {
   "cell_type": "markdown",
   "metadata": {},
   "source": [
    "## Happy Coding\n",
    "# A R"
   ]
  }
 ],
 "metadata": {
  "kernelspec": {
   "display_name": "Python 3",
   "language": "python",
   "name": "python3"
  },
  "language_info": {
   "codemirror_mode": {
    "name": "ipython",
    "version": 3
   },
   "file_extension": ".py",
   "mimetype": "text/x-python",
   "name": "python",
   "nbconvert_exporter": "python",
   "pygments_lexer": "ipython3",
   "version": "3.6.11"
  }
 },
 "nbformat": 4,
 "nbformat_minor": 4
}
