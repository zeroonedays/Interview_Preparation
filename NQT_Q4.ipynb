{
 "cells": [
  {
   "cell_type": "markdown",
   "metadata": {},
   "source": [
    "# Problem : A Sober Walk\n",
    "\n",
    "Our horay culture had several great persons since time immemorial and king vikramaditya's\n",
    "\n",
    "nava ratnas (nine gems) belong to this ilk. They are named in the following shloka:\n",
    "\n",
    "\n",
    "\n",
    "##### Some sanskrit word\n",
    "\n",
    "Among these, Varahamihira was an astrologer of eminence and his book Brihat Jataak is recokened as the\n",
    "\n",
    "ultimate authority in astrology. He was once talking with Amarasimha, another gem among the nava ratnas \n",
    "\n",
    "and the author of Sanskrit thesaurs, Amarakosha. Amarasimha wanted to know the final position of\n",
    "\n",
    "a person, who starts from the origin 0 0 and travel per following scheme.\n",
    "\n",
    "* He first turns and travels 10 units of distance\n",
    "* His second turn is upward for 20 units\n",
    "* Third turn is to the left for 30 units\n",
    "* Fourth turn is the downward for 40 units\n",
    "* Fifth turn is to the right(again) for 50 units\n",
    "\n",
    ".... And thus he travels, every time increasing the travel distance by 10 units.\n",
    "\n",
    "#### Constraints:\n",
    "2<=n<=1000"
   ]
  },
  {
   "cell_type": "markdown",
   "metadata": {},
   "source": [
    "### Input:\n",
    "##### 3\n",
    "### Output\n",
    "##### -20 20"
   ]
  },
  {
   "cell_type": "code",
   "execution_count": 10,
   "metadata": {},
   "outputs": [
    {
     "name": "stdout",
     "output_type": "stream",
     "text": [
      "3\n",
      "-20 20\n"
     ]
    }
   ],
   "source": [
    "n = int(input())\n",
    "direction = 'R'\n",
    "x=0\n",
    "y=0\n",
    "inc = 10\n",
    "for i in range(n):\n",
    "    if direction == \"R\":\n",
    "        x = x + inc\n",
    "        inc = inc + 10\n",
    "        direction = 'U'\n",
    "    elif direction == \"U\":\n",
    "        y = y + inc\n",
    "        inc += 10\n",
    "        direction = \"L\"\n",
    "    elif direction == \"L\":\n",
    "        x = x - inc\n",
    "        inc += 10\n",
    "        direction = \"D\"\n",
    "    elif direction == \"D\":\n",
    "        y = y - inc\n",
    "        inc += 10\n",
    "        direction = \"R\"\n",
    "        \n",
    "print(str(x)+\" \"+str(y))"
   ]
  },
  {
   "cell_type": "code",
   "execution_count": 11,
   "metadata": {},
   "outputs": [
    {
     "name": "stdout",
     "output_type": "stream",
     "text": [
      "4\n",
      "-20 -20\n"
     ]
    }
   ],
   "source": [
    "n = int(input())\n",
    "direction = 'R'\n",
    "x=0\n",
    "y=0\n",
    "inc = 10\n",
    "for i in range(n):\n",
    "    if direction == \"R\":\n",
    "        x = x + inc\n",
    "        inc = inc + 10\n",
    "        direction = 'U'\n",
    "    elif direction == \"U\":\n",
    "        y = y + inc\n",
    "        inc += 10\n",
    "        direction = \"L\"\n",
    "    elif direction == \"L\":\n",
    "        x = x - inc\n",
    "        inc += 10\n",
    "        direction = \"D\"\n",
    "    elif direction == \"D\":\n",
    "        y = y - inc\n",
    "        inc += 10\n",
    "        direction = \"R\"\n",
    "        \n",
    "print(x,y)"
   ]
  },
  {
   "cell_type": "code",
   "execution_count": 12,
   "metadata": {},
   "outputs": [
    {
     "name": "stdout",
     "output_type": "stream",
     "text": [
      "3\n",
      "-20 20\n"
     ]
    }
   ],
   "source": [
    "n = int(input())\n",
    "direction = 'R'\n",
    "x=0\n",
    "y=0\n",
    "inc = 10\n",
    "for i in range(n):\n",
    "    if direction == \"R\":\n",
    "        x = x + inc\n",
    "        inc = inc + 10\n",
    "        direction = 'U'\n",
    "    elif direction == \"U\":\n",
    "        y = y + inc\n",
    "        inc += 10\n",
    "        direction = \"L\"\n",
    "    elif direction == \"L\":\n",
    "        x = x - inc\n",
    "        inc += 10\n",
    "        direction = \"D\"\n",
    "    elif direction == \"D\":\n",
    "        y = y - inc\n",
    "        inc += 10\n",
    "        direction = \"R\"\n",
    "        \n",
    "print(\"{} {}\".format(x,y))"
   ]
  },
  {
   "cell_type": "code",
   "execution_count": 13,
   "metadata": {},
   "outputs": [
    {
     "name": "stdout",
     "output_type": "stream",
     "text": [
      "5\n",
      "30 -20\n"
     ]
    }
   ],
   "source": [
    "n = int(input())\n",
    "direction = 'R'\n",
    "x=0\n",
    "y=0\n",
    "inc = 10\n",
    "for i in range(n):\n",
    "    if direction == \"R\":\n",
    "        x = x + inc\n",
    "        inc = inc + 10\n",
    "        direction = 'U'\n",
    "    elif direction == \"U\":\n",
    "        y = y + inc\n",
    "        inc += 10\n",
    "        direction = \"L\"\n",
    "    elif direction == \"L\":\n",
    "        x = x - inc\n",
    "        inc += 10\n",
    "        direction = \"D\"\n",
    "    elif direction == \"D\":\n",
    "        y = y - inc\n",
    "        inc += 10\n",
    "        direction = \"R\"\n",
    "        \n",
    "print(\"{} {}\".format(x,y))"
   ]
  },
  {
   "cell_type": "code",
   "execution_count": 14,
   "metadata": {},
   "outputs": [
    {
     "name": "stdout",
     "output_type": "stream",
     "text": [
      "999\n",
      "-5000 5000\n"
     ]
    }
   ],
   "source": [
    "n = int(input())\n",
    "direction = 'R'\n",
    "x=0\n",
    "y=0\n",
    "inc = 10\n",
    "for i in range(n):\n",
    "    if direction == \"R\":\n",
    "        x = x + inc\n",
    "        inc = inc + 10\n",
    "        direction = 'U'\n",
    "    elif direction == \"U\":\n",
    "        y = y + inc\n",
    "        inc += 10\n",
    "        direction = \"L\"\n",
    "    elif direction == \"L\":\n",
    "        x = x - inc\n",
    "        inc += 10\n",
    "        direction = \"D\"\n",
    "    elif direction == \"D\":\n",
    "        y = y - inc\n",
    "        inc += 10\n",
    "        direction = \"R\"\n",
    "        \n",
    "print(\"{} {}\".format(x,y))"
   ]
  },
  {
   "cell_type": "markdown",
   "metadata": {},
   "source": [
    "## Happy Coding\n",
    "# A R"
   ]
  }
 ],
 "metadata": {
  "kernelspec": {
   "display_name": "Python 3",
   "language": "python",
   "name": "python3"
  },
  "language_info": {
   "codemirror_mode": {
    "name": "ipython",
    "version": 3
   },
   "file_extension": ".py",
   "mimetype": "text/x-python",
   "name": "python",
   "nbconvert_exporter": "python",
   "pygments_lexer": "ipython3",
   "version": "3.6.11"
  }
 },
 "nbformat": 4,
 "nbformat_minor": 4
}
